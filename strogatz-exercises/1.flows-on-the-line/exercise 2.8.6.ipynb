{
 "cells": [
  {
   "cell_type": "markdown",
   "metadata": {},
   "source": [
    "### Analytically Intractable Problem\n",
    "\n",
    "Consider the IVP  \n",
    "$\\dot {x} = x + e^{-x}$, $x(0) = 0$  "
   ]
  },
  {
   "cell_type": "markdown",
   "metadata": {},
   "source": [
    "$\\dot {x} = f(x)$  \n",
    "$f(x) = 0 \\Rightarrow x^{*} = \\: ? $"
   ]
  },
  {
   "cell_type": "markdown",
   "metadata": {},
   "source": [
    "$0 = x + e^{-x} \\Rightarrow -x = e^{x}$  \n",
    "$ln(-x) = -x$  \n",
    "No analytical solution "
   ]
  },
  {
   "cell_type": "markdown",
   "metadata": {},
   "source": [
    "Since $\\dot {x} = f(x)$ represents the rate of change of $x(t)$ per a given unit of time, $f(x_{0}) * \\Delta {t} $ represents a change in x over an interval of time starting from $x_{0}$. Of course, the larger $\\Delta {t}$ is, the less accurate the value of the change in x, since $f(x_{0})$ represents the slope of a line tangent to $x(t)$ at $x = x_{0}$. "
   ]
  },
  {
   "cell_type": "markdown",
   "metadata": {},
   "source": [
    "### Use Euler's Method"
   ]
  },
  {
   "cell_type": "markdown",
   "metadata": {},
   "source": [
    "We use the update method to calculate a bunch of values of x, and along with a bunch of corresponding values of t, we can plot a graph that approximates $x(t)$.  For n iterations, we can use the following equations:  \n",
    "\n",
    "$t_{n + 1} = t_{n} + \\Delta{t}$  \n",
    "$x_{n + 1} = x_{n} + f(x_{n})\\Delta{t}$\n",
    "\n",
    "We'll use a domain of $[0 \\leq{t} \\lt{3}]$"
   ]
  },
  {
   "cell_type": "code",
   "execution_count": 40,
   "metadata": {},
   "outputs": [
    {
     "data": {
      "text/plain": [
       "[<matplotlib.lines.Line2D at 0x174a991ee88>]"
      ]
     },
     "execution_count": 40,
     "metadata": {},
     "output_type": "execute_result"
    },
    {
     "data": {
      "image/png": "[encoded data removed]",
      "text/plain": [
       "<Figure size 432x288 with 1 Axes>"
      ]
     },
     "metadata": {
      "needs_background": "light"
     },
     "output_type": "display_data"
    }
   ],
   "source": [
    "import math\n",
    "import matplotlib.pyplot as plt\n",
    "\n",
    "def f(x):\n",
    "    return x + math.exp(-x)\n",
    "\n",
    "n = 1000\n",
    "t_lo = 0\n",
    "t_hi = 2\n",
    "t_target = 1\n",
    "delta_t = (t_hi - t_lo)/n\n",
    "t_0 = 0\n",
    "x_0 = 0\n",
    "target_idx = 0\n",
    "t = [k*delta_t for k in range(n)]\n",
    "for j in range(len(t)):\n",
    "    if abs(t[j] - t_target) <= .0001:\n",
    "        target_idx = j\n",
    "        break\n",
    "\n",
    "x = [x_0]\n",
    "for i in range(1, n):\n",
    "    x.append(x[i-1] + f(x[i-1])*delta_t)\n",
    "    \n",
    "\n",
    "constant_t = [1 for _ in range(n)]\n",
    "constant_x = [x[target_idx] for _ in range(n)]\n",
    "\n",
    "\n",
    "plt.plot(t,x)\n",
    "plt.plot(constant_t, x)\n",
    "plt.plot(t, constant_x)"
   ]
  },
  {
   "cell_type": "code",
   "execution_count": null,
   "metadata": {},
   "outputs": [],
   "source": []
  }
 ],
 "metadata": {
  "kernelspec": {
   "display_name": "Python 3",
   "language": "python",
   "name": "python3"
  },
  "language_info": {
   "codemirror_mode": {
    "name": "ipython",
    "version": 3
   },
   "file_extension": ".py",
   "mimetype": "text/x-python",
   "name": "python",
   "nbconvert_exporter": "python",
   "pygments_lexer": "ipython3",
   "version": "3.7.6"
  }
 },
 "nbformat": 4,
 "nbformat_minor": 4
}
