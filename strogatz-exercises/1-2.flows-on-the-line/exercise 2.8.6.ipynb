{
 "cells": [
  {
   "cell_type": "markdown",
   "metadata": {},
   "source": [
    "### Analytically Intractable Problem (Ex 2.8,6)\n",
    "\n",
    "Consider the IVP  \n",
    "$\\dot {x} = x + e^{-x}$, $x(0) = 0$ "
   ]
  },
  {
   "cell_type": "markdown",
   "metadata": {},
   "source": [
    "$\\dot {x} = f(x)$  \n",
    "$f(x) = 0 \\Rightarrow x^{*} = \\: ? $"
   ]
  },
  {
   "cell_type": "markdown",
   "metadata": {},
   "source": [
    "$0 = x + e^{-x} \\Rightarrow -x = e^{x}$  \n",
    "$ln(-x) = -x$  \n",
    "No analytical solution "
   ]
  },
  {
   "cell_type": "markdown",
   "metadata": {},
   "source": [
    "Since $\\dot {x} = f(x)$ represents the rate of change of $x(t)$ per a given unit of time, $f(x_{0}) * \\Delta {t} $ represents a change in x over an interval of time starting from $x_{0}$. Of course, the larger $\\Delta {t}$ is, the less accurate the value of the change in x, since $f(x_{0})$ represents the slope of a line tangent to $x(t)$ at $x = x_{0}$. "
   ]
  },
  {
   "cell_type": "markdown",
   "metadata": {},
   "source": [
    "**(a)** Sketch the solution $x(t)$ for $t\\geq 0$"
   ]
  },
  {
   "cell_type": "markdown",
   "metadata": {},
   "source": [
    "At $t = 0$ and $x = 0$, $\\dot {x} = 1$, our sketch starts off from $x = 0$ with a slope of 1.For $x \\gt 0$, $\\dot {x}$ is always positive and increasing, so we see that our sketch will be concave-up. See below (part (c)) for the actual graph."
   ]
  },
  {
   "cell_type": "markdown",
   "metadata": {},
   "source": [
    "**(b)** Using some analytical arguments, obtain rigorous bounds on the value of $x$ at $t = 1$. In other words, prove that $a \\lt x(1) \\lt b$, for $a, b$ to be determined.By being clever, try to make $a$ and $b$ as close together as possible.(Hint: bound the given vector field by approximate vector fields that can be integrated analytically.)"
   ]
  },
  {
   "cell_type": "markdown",
   "metadata": {},
   "source": [
    "It's reasonable to think that by 'approximate vector fields', the author is suggesting we use a Taylor series approximation.\n",
    "\n",
    "$$\\dot {x} + e^{-x} \\approx 1 + \\frac{x^{2}}{2}$$  \n",
    "If we choose $a = 1$ and $b = 1 + \\epsilon$, where $\\epsilon \\lt \\lt 1$, we can bound the given vector field by approximate vector fields like so,  \n",
    "$$ 1 < \\dot {x}  < 1 + \\frac{x^{2}}{2}$$  \n",
    "$$1 \\lt \\frac {dx}{dt} \\lt 1 + \\frac{x^{2}}{2}$$  \n",
    "Breaking the inequality into two different differential inequalities gives,  \n",
    "  $$1 \\lt \\frac {dx}{dt}$$ and  \n",
    "  $$\\frac {dx}{dt} \\lt 1 + \\frac{x^{2}}{2}$$ "
   ]
  },
  {
   "cell_type": "markdown",
   "metadata": {},
   "source": [
    "**(1)**  \n",
    "$$1 \\lt \\frac {dx}{dt}$$  \n",
    "$$\\int_{0}^{t} dt < \\int dx$$  \n",
    "$$t < x(t) + C$$  "
   ]
  },
  {
   "cell_type": "markdown",
   "metadata": {},
   "source": [
    "**(2)**  \n",
    "$$\\frac {dx}{dt} \\lt 1 + \\frac{x^{2}}{2}$$   \n",
    "$$\\frac {dx}{dt} \\lt \\frac{1}{2}(2 + x^{2})$$      \n",
    "$$\\int \\frac {1}{2 + x^{2}}dx < \\int_{0}^{t}\\frac{1}{2}dt$$  \n",
    "$$\\frac{1}{\\sqrt{2}}arctan\\left (\\frac{x}{\\sqrt{2}}\\right ) + C < \\frac{1}{2}t$$ \n",
    "\n",
    "Given the initial conditions $x(0) = 0$, C = 0 for both (1) and (2), so\n",
    "\n",
    "$$x(t) < \\sqrt{2}tan\\left ( \\frac{t}{\\sqrt{2}}\\right )$$  "
   ]
  },
  {
   "cell_type": "markdown",
   "metadata": {},
   "source": [
    "This gives us our bounds on the value of x at t = 1,\n",
    "\n",
    "$$t < x(t) < \\sqrt{2}tan\\left ( \\frac{t}{\\sqrt{2}}\\right )$$ "
   ]
  },
  {
   "cell_type": "markdown",
   "metadata": {},
   "source": [
    "**(c)** Now for the numerical part: using the Euler method, compute x at t = 1, correct to 3 decimal places. How small does the step size need to be to obtain the desired accuracy?  "
   ]
  },
  {
   "cell_type": "markdown",
   "metadata": {},
   "source": [
    "### Use Euler's Method"
   ]
  },
  {
   "cell_type": "markdown",
   "metadata": {},
   "source": [
    "We use the update method to calculate a bunch of values of x, and along with a bunch of corresponding values of t, we can plot a graph that approximates $x(t)$.  For n iterations, we can use the following equations:  \n",
    "\n",
    "$t_{n + 1} = t_{n} + \\Delta{t}$  \n",
    "$x_{n + 1} = x_{n} + f(x_{n})\\Delta{t}$\n",
    "\n",
    "We'll use a domain of $[0 \\leq{t} \\lt{2}]$"
   ]
  },
  {
   "cell_type": "code",
   "execution_count": 7,
   "metadata": {},
   "outputs": [
    {
     "data": {
      "text/plain": [
       "1.153"
      ]
     },
     "execution_count": 7,
     "metadata": {},
     "output_type": "execute_result"
    }
   ],
   "source": [
    "import math\n",
    "import matplotlib.pyplot as plt\n",
    "\n",
    "def f(x):\n",
    "    return x + math.exp(-x)\n",
    "\n",
    "n = 1000\n",
    "t_lo = 0\n",
    "t_hi = 2\n",
    "t_target = 1\n",
    "delta_t = (t_hi - t_lo)/n\n",
    "t_0 = 0\n",
    "x_0 = 0\n",
    "target_idx = 0\n",
    "t = [k*delta_t for k in range(n)]\n",
    "for j in range(len(t)):\n",
    "    if abs(t[j] - t_target) <= .0001:\n",
    "        target_idx = j\n",
    "        break\n",
    "\n",
    "x = [x_0]\n",
    "for i in range(1, n):\n",
    "    x.append(x[i-1] + f(x[i-1])*delta_t)\n",
    "    \n",
    "\n",
    "constant_t = [1 for _ in range(n)]\n",
    "constant_x = [x[target_idx] for _ in range(n)]\n",
    "\n",
    "round(x[target_idx], 3)"
   ]
  },
  {
   "cell_type": "markdown",
   "metadata": {},
   "source": [
    "At $t = 1$, we have $x \\approx 1.153$  \n",
    "We'll finish off by looking at this result graphically in support of our work in part (a)."
   ]
  },
  {
   "cell_type": "code",
   "execution_count": 6,
   "metadata": {},
   "outputs": [
    {
     "data": {
      "text/plain": [
       "Text(0, 0.5, 'x')"
      ]
     },
     "execution_count": 6,
     "metadata": {},
     "output_type": "execute_result"
    },
    {
     "data": {
      "image/png": "[encoded data removed]",
      "text/plain": [
       "<Figure size 432x288 with 1 Axes>"
      ]
     },
     "metadata": {
      "needs_background": "light"
     },
     "output_type": "display_data"
    }
   ],
   "source": [
    "plt.plot(t,x)\n",
    "plt.plot(constant_t, x)\n",
    "plt.plot(t, constant_x)\n",
    "plt.xlabel(\"t\")\n",
    "plt.ylabel(\"x\")"
   ]
  },
  {
   "cell_type": "code",
   "execution_count": null,
   "metadata": {},
   "outputs": [],
   "source": []
  }
 ],
 "metadata": {
  "kernelspec": {
   "display_name": "Python 3",
   "language": "python",
   "name": "python3"
  },
  "language_info": {
   "codemirror_mode": {
    "name": "ipython",
    "version": 3
   },
   "file_extension": ".py",
   "mimetype": "text/x-python",
   "name": "python",
   "nbconvert_exporter": "python",
   "pygments_lexer": "ipython3",
   "version": "3.8.3"
  }
 },
 "nbformat": 4,
 "nbformat_minor": 4
}
